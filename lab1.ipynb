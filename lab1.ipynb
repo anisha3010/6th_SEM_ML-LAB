import pandas as pd
import numpy as np
data= pd.read_csv("data.csv")
sample=np.array(data)[:,:-1]
sample
target= np.array(data)[:,-1]
target

for i,val in enumerate(target):
  if val=="yes":
    hyp=sample[i].copy()
    break
for i,val in enumerate(sample):
  if target[i]=="yes":
    for x in range(len(hyp)):
      if val[x]!=hyp[x]:
        hyp[x]="?"
      else:
        continue


print(data)
print(hyp)
