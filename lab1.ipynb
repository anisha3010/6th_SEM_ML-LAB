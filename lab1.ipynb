{
  "nbformat": 4,
  "nbformat_minor": 0,
  "metadata": {
    "colab": {
      "name": "lab1.ipynb",
      "provenance": []
    },
    "kernelspec": {
      "name": "python3",
      "display_name": "Python 3"
    },
    "language_info": {
      "name": "python"
    }
  },
  "cells": [
    {
      "cell_type": "code",
      "execution_count": 1,
      "metadata": {
        "id": "iHo-9NFN8nVX"
      },
      "outputs": [],
      "source": [
        "import pandas as pd\n",
        "import numpy as np"
      ]
    },
    {
      "cell_type": "code",
      "source": [
        "data= pd.read_csv(\"data.csv\")\n",
        "sample=np.array(data)[:,:-1]\n",
        "sample\n",
        "target= np.array(data)[:,-1]\n",
        "target"
      ],
      "metadata": {
        "colab": {
          "base_uri": "https://localhost:8080/"
        },
        "id": "88ojjawE9Ez5",
        "outputId": "2e68f216-cb4a-49b1-c787-6cabdc6363cf"
      },
      "execution_count": 8,
      "outputs": [
        {
          "output_type": "execute_result",
          "data": {
            "text/plain": [
              "array(['yes', 'yes', 'no', 'yes'], dtype=object)"
            ]
          },
          "metadata": {},
          "execution_count": 8
        }
      ]
    },
    {
      "cell_type": "code",
      "source": [
        "\n",
        "for i,val in enumerate(target):\n",
        "  if val==\"yes\":\n",
        "    hyp=sample[i].copy()\n",
        "    break\n",
        "for i,val in enumerate(sample):\n",
        "  if target[i]==\"yes\":\n",
        "    for x in range(len(hyp)):\n",
        "      if val[x]!=hyp[x]:\n",
        "        hyp[x]=\"?\"\n",
        "      else:\n",
        "        continue\n",
        "\n",
        "\n"
      ],
      "metadata": {
        "id": "bFnK0VGi9UPI"
      },
      "execution_count": 9,
      "outputs": []
    },
    {
      "cell_type": "code",
      "source": [
        "print(data)"
      ],
      "metadata": {
        "colab": {
          "base_uri": "https://localhost:8080/"
        },
        "id": "js-zrxdDIb0Z",
        "outputId": "a7b731d5-0689-42d2-b7af-0132cd3527b5"
      },
      "execution_count": 11,
      "outputs": [
        {
          "output_type": "stream",
          "name": "stdout",
          "text": [
            "     sky air temp humidity    wind water forecast enjoy sport\n",
            "0  sunny     warm   normal  strong  warm     same         yes\n",
            "1  sunny     warm     high  strong  warm     same         yes\n",
            "2  rainy     cold     high  strong  warm   change          no\n",
            "3  sunny     warm     high  strong  cool   change         yes\n"
          ]
        }
      ]
    },
    {
      "cell_type": "code",
      "source": [
        "print(hyp)"
      ],
      "metadata": {
        "colab": {
          "base_uri": "https://localhost:8080/"
        },
        "id": "3YC8P1m2BJdw",
        "outputId": "f06272cb-881f-49ef-8b64-bef633b9c4ba"
      },
      "execution_count": 10,
      "outputs": [
        {
          "output_type": "stream",
          "name": "stdout",
          "text": [
            "['sunny' 'warm' '?' 'strong' '?' '?']\n"
          ]
        }
      ]
    },
    {
      "cell_type": "code",
      "source": [
        ""
      ],
      "metadata": {
        "id": "S1t2air2BWK3"
      },
      "execution_count": null,
      "outputs": []
    }
  ]
}