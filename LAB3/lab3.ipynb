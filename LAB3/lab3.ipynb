{
  "nbformat": 4,
  "nbformat_minor": 0,
  "metadata": {
    "colab": {
      "name": "lab3.ipynb",
      "provenance": []
    },
    "kernelspec": {
      "name": "python3",
      "display_name": "Python 3"
    },
    "language_info": {
      "name": "python"
    }
  },
  "cells": [
    {
      "cell_type": "code",
      "execution_count": 1,
      "metadata": {
        "id": "O6oyYLn4CA0K"
      },
      "outputs": [],
      "source": [
        "import pandas as pd\n",
        "import numpy as np\n",
        "import math"
      ]
    },
    {
      "cell_type": "code",
      "source": [
        "data= pd.read_csv(\"data1.csv\")\n",
        "features=[feat for feat in data]\n",
        "features.remove('answer')"
      ],
      "metadata": {
        "id": "nd1t_G3fEBQx"
      },
      "execution_count": 9,
      "outputs": []
    },
    {
      "cell_type": "code",
      "source": [
        "class Node:\n",
        "  def __init__(self):\n",
        "    self.children=[]\n",
        "    self.value=\"\"\n",
        "    self.isLeaf=False\n",
        "    self.pred=\"\"\n",
        "\n",
        "def entropy(examples):\n",
        "  pos=0.0\n",
        "  neg=0.0\n",
        "  for _,row in examples.iterrows():\n",
        "    if row[\"answer\"]==\"yes\":\n",
        "      pos+=1\n",
        "    else:\n",
        "      neg+=1\n",
        "  if pos==0.0 or neg==0.0:\n",
        "    return 0.0\n",
        "  else:\n",
        "    p=pos/(pos+neg)\n",
        "    n=neg/(pos+neg)\n",
        "    return -(p*math.log(p,2)+ n*math.log(n,2))\n",
        "def info_gain(examples,attr):\n",
        "  uniq=np.unique(examples[attr])\n",
        "  gain=entropy(examples)\n",
        "  for u in uniq:\n",
        "    subdata= examples[examples[attr]==u]\n",
        "    subent= entropy(subdata)\n",
        "    gain -= (float(len(subdata))/float(len(examples)))*subent\n",
        "  return gain\n",
        "\n",
        "def id3(examples,attr):\n",
        "  root=Node()\n",
        "  max_gain=0\n",
        "  max_feat=\"\"\n",
        "  for feat in attr:\n",
        "    gain=info_gain(examples,feat)\n",
        "    if gain>max_gain:\n",
        "      max_gain=gain\n",
        "      max_feat=feat\n",
        "  root.value=max_feat\n",
        "  uniq=np.unique(examples[max_feat])\n",
        "  for u in uniq:\n",
        "    subdata=examples[examples[max_feat]==u]\n",
        "    if entropy(subdata) == 0.0:\n",
        "      newNode = Node()\n",
        "      newNode.isLeaf = True\n",
        "      newNode.value = u\n",
        "      newNode.pred = np.unique(subdata[\"answer\"])\n",
        "      root.children.append(newNode)\n",
        "    else:\n",
        "      dummyNode = Node()\n",
        "      dummyNode.value = u\n",
        "      new_attrs = attr.copy()\n",
        "      new_attrs.remove(max_feat)\n",
        "      child = id3(subdata, new_attrs)\n",
        "      dummyNode.children.append(child)\n",
        "      root.children.append(dummyNode)\n",
        "  return root\n",
        "\n",
        "\n",
        "\n"
      ],
      "metadata": {
        "id": "Lj2yOQs9F7kp"
      },
      "execution_count": 13,
      "outputs": []
    },
    {
      "cell_type": "code",
      "source": [
        "def printTree(root: Node, depth=0):\n",
        "    for i in range(depth):\n",
        "        print(\"\\t\", end=\"\")\n",
        "    print(root.value, end=\"\")\n",
        "    if root.isLeaf:\n",
        "        print(\" -> \", root.pred)\n",
        "    print()\n",
        "    for child in root.children:\n",
        "        printTree(child, depth + 1)\n",
        "\n",
        "root = id3(data, features)\n",
        "printTree(root)"
      ],
      "metadata": {
        "colab": {
          "base_uri": "https://localhost:8080/"
        },
        "id": "qfT-3HGtMOFs",
        "outputId": "92e01183-63ca-4ea5-fc96-4029ef49a68a"
      },
      "execution_count": 14,
      "outputs": [
        {
          "output_type": "stream",
          "name": "stdout",
          "text": [
            "outlook\n",
            "\tovercast ->  ['yes']\n",
            "\n",
            "\train\n",
            "\t\twind\n",
            "\t\t\tstrong ->  ['no']\n",
            "\n",
            "\t\t\tweak ->  ['yes']\n",
            "\n",
            "\tsunny\n",
            "\t\thumidity\n",
            "\t\t\thigh ->  ['no']\n",
            "\n",
            "\t\t\tnormal ->  ['yes']\n",
            "\n"
          ]
        }
      ]
    }
  ]
}